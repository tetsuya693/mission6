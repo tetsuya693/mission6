{
 "cells": [
  {
   "cell_type": "code",
   "execution_count": null,
   "metadata": {},
   "outputs": [],
   "source": [
    "#安裝flask套件\n",
    "!pip install flask\n",
    "\n",
    "#引用套件\n",
    "from flask import Flask, request, abort, jsonify\n",
    "\n",
    "#設置app啟動點\n",
    "app = Flask(__name__,static_url_path = \"/images\" , static_folder = \"./images/\" )\n",
    "\n",
    "#定義app訪問路徑/及用戶能對此端口用get方法訪問\n",
    "@app.route('/',methods=['GET'])\n",
    "\n",
    "#傳回{\"userId\":1,\"userName\":\"xiaoming\"}\n",
    "def hello_world():\n",
    "    t = {\"userId\":1,\"userName\":\"xiaoming\"}\n",
    "    return jsonify(t)\n",
    "\n",
    "#啟用app(為user設計一個端口，win10記得去防火牆設定port規則)\n",
    "if __name__ == \"__main__\":\n",
    "    app.run(host='0.0.0.0',port='5000')"
   ]
  },
  {
   "cell_type": "code",
   "execution_count": null,
   "metadata": {},
   "outputs": [],
   "source": []
  }
 ],
 "metadata": {
  "kernelspec": {
   "display_name": "Python 3",
   "language": "python",
   "name": "python3"
  },
  "language_info": {
   "codemirror_mode": {
    "name": "ipython",
    "version": 3
   },
   "file_extension": ".py",
   "mimetype": "text/x-python",
   "name": "python",
   "nbconvert_exporter": "python",
   "pygments_lexer": "ipython3",
   "version": "3.7.0"
  }
 },
 "nbformat": 4,
 "nbformat_minor": 2
}
